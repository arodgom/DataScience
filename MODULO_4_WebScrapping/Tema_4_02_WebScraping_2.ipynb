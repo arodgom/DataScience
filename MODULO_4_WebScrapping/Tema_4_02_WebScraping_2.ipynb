{
 "cells": [
  {
   "cell_type": "markdown",
   "id": "3a355995",
   "metadata": {},
   "source": [
    "*Creado por:*\n",
    "\n",
    "*Isabel Maniega*"
   ]
  },
  {
   "cell_type": "markdown",
   "id": "fdefad16",
   "metadata": {},
   "source": [
    "# Pandas y HTML"
   ]
  },
  {
   "cell_type": "code",
   "execution_count": null,
   "id": "c6d79316",
   "metadata": {},
   "outputs": [],
   "source": [
    "import warnings\n",
    "warnings.filterwarnings(\"ignore\")"
   ]
  },
  {
   "cell_type": "code",
   "execution_count": null,
   "id": "2f344d83",
   "metadata": {},
   "outputs": [],
   "source": [
    "# pip install html5lib"
   ]
  },
  {
   "cell_type": "code",
   "execution_count": null,
   "id": "c84ae4bf",
   "metadata": {},
   "outputs": [],
   "source": [
    "# pip install lxml"
   ]
  },
  {
   "cell_type": "code",
   "execution_count": null,
   "id": "591f5373",
   "metadata": {},
   "outputs": [],
   "source": [
    "import pandas as pd"
   ]
  },
  {
   "cell_type": "code",
   "execution_count": null,
   "id": "abf45c49",
   "metadata": {},
   "outputs": [],
   "source": [
    "df = pd.read_html('https://es.wikipedia.org/wiki/Anexo:Municipios_de_Espa%C3%B1a_por_poblaci%C3%B3n', header=0)\n",
    "len(df)"
   ]
  },
  {
   "cell_type": "code",
   "execution_count": null,
   "id": "58895873",
   "metadata": {},
   "outputs": [],
   "source": [
    "df"
   ]
  },
  {
   "cell_type": "markdown",
   "id": "5c55207c",
   "metadata": {},
   "source": [
    "**Municipios con más de 500 000 habitantes**"
   ]
  },
  {
   "cell_type": "code",
   "execution_count": null,
   "id": "3073db20",
   "metadata": {},
   "outputs": [],
   "source": [
    "df_1 = df[0]\n",
    "df_1"
   ]
  },
  {
   "cell_type": "markdown",
   "id": "4fdeafd8",
   "metadata": {},
   "source": [
    "**Municipios con más de 200 000 y menos de 500 000 habitantes**"
   ]
  },
  {
   "cell_type": "code",
   "execution_count": null,
   "id": "13928d03",
   "metadata": {},
   "outputs": [],
   "source": [
    "df_2 = df[1]\n",
    "df_2"
   ]
  },
  {
   "cell_type": "markdown",
   "id": "9b9e4d57",
   "metadata": {},
   "source": [
    "**Municipios con más de 100 000 y menos de 200 000 habitantes**"
   ]
  },
  {
   "cell_type": "code",
   "execution_count": null,
   "id": "4027d47a",
   "metadata": {},
   "outputs": [],
   "source": [
    "df_3 = df[2]\n",
    "df_3"
   ]
  },
  {
   "cell_type": "markdown",
   "id": "47c1ca82",
   "metadata": {},
   "source": [
    "Tras revisar los datos, vemos que obtenemos la información de la página"
   ]
  },
  {
   "cell_type": "markdown",
   "id": "b25ae6c1",
   "metadata": {},
   "source": [
    "*Creado por:*\n",
    "\n",
    "*Isabel Maniega*"
   ]
  }
 ],
 "metadata": {
  "kernelspec": {
   "display_name": "Python 3",
   "language": "python",
   "name": "python3"
  },
  "language_info": {
   "codemirror_mode": {
    "name": "ipython",
    "version": 3
   },
   "file_extension": ".py",
   "mimetype": "text/x-python",
   "name": "python",
   "nbconvert_exporter": "python",
   "pygments_lexer": "ipython3",
   "version": "3.8.5"
  },
  "vscode": {
   "interpreter": {
    "hash": "7d2ce6fac6ec7869150676e3d8cb5779904d076219fc81d6379c2f731cfa81e2"
   }
  }
 },
 "nbformat": 4,
 "nbformat_minor": 5
}
